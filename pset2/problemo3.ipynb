{
 "cells": [
  {
   "cell_type": "code",
   "execution_count": 2,
   "metadata": {},
   "outputs": [
    {
     "name": "stdout",
     "output_type": "stream",
     "text": [
      "2.079538407153671\n",
      "1.6500656817559647\n"
     ]
    }
   ],
   "source": [
    "#Toms method (written) => proof read by us and did the calulations for F1/2 by hand \n",
    "\n",
    "#a\n",
    "\n",
    "import numpy as np\n",
    "from scipy.special import gamma\n",
    "import matplotlib.pyplot as plt\n",
    "import astropy.units as u\n",
    "import astropy.constants as const\n",
    "from scipy.interpolate import interp1d\n",
    "def fermi_dirac(j, z):\n",
    "    assert j in [0.5, 1.5]\n",
    "    \n",
    "    if j == 0.5:\n",
    "        a = 9.6\n",
    "        b = 2.13\n",
    "        c = 12 / 5\n",
    "    else:\n",
    "        a = 14.9\n",
    "        b = 2.64\n",
    "        c = 9 / 4\n",
    "        \n",
    "    first_term = (j + 1) * 2**(j + 1) / (b + z + (np.abs(z - b)**c + a)**(1/c))**(j + 1)\n",
    "    second_term = np.exp(-z) / gamma(j + 1)\n",
    "    \n",
    "    return (first_term + second_term)**(-1)\n",
    "    \n",
    "rho_c = 325 * u.g / u.cm**3\n",
    "T_c = 6e6 * u.K\n",
    "s = 0.5\n",
    "n = (1.2 * rho_c / (1.4 * const.m_p)).to(u.cm**(-3))\n",
    "lam = (const.h / (2 * np.pi * const.m_e * const.k_B * T_c)**(1/2)).to(u.cm)\n",
    "fd = n * lam**3 * np.pi**(1/2) / (2 * (2 * s + 1))\n",
    "print(fd)\n",
    "\n",
    "\n",
    "z_range = np.linspace(-10, 50, 1000)\n",
    "inverse_fd_func = interp1d(fermi_dirac(0.5, z_range), z_range)\n",
    "print(inverse_fd_func(fd))"
   ]
  },
  {
   "cell_type": "code",
   "execution_count": 5,
   "metadata": {},
   "outputs": [
    {
     "data": {
      "text/plain": [
       "4.343780191031938"
      ]
     },
     "execution_count": 5,
     "metadata": {},
     "output_type": "execute_result"
    }
   ],
   "source": [
    "#b \n",
    "\n",
    "f3_2 = fermi_dirac(1.5, inverse_fd_func(fd))\n",
    "f3_2"
   ]
  },
  {
   "cell_type": "code",
   "execution_count": null,
   "metadata": {},
   "outputs": [],
   "source": []
  }
 ],
 "metadata": {
  "kernelspec": {
   "display_name": "Python 3",
   "language": "python",
   "name": "python3"
  },
  "language_info": {
   "codemirror_mode": {
    "name": "ipython",
    "version": 3
   },
   "file_extension": ".py",
   "mimetype": "text/x-python",
   "name": "python",
   "nbconvert_exporter": "python",
   "pygments_lexer": "ipython3",
   "version": "3.7.4"
  }
 },
 "nbformat": 4,
 "nbformat_minor": 4
}
